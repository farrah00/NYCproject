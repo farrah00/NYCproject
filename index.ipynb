{
 "cells": [
  {
   "cell_type": "markdown",
   "id": "defined-comedy",
   "metadata": {},
   "source": [
    "# Phase 1 Project\n",
    "\n",
    "## Introduction\n",
    "\n",
    "Congratulations on completing phase 1! In this notebook, you will complete a final project that applies your python and visualization skills to real word business data. \n",
    "\n",
    "## Objectives \n",
    "In this project, you will...\n",
    "- Read in data that has been stored as a `json` file.\n",
    "- Describe how the data is structured.\n",
    "- Use Python to filter a nested data structure\n",
    "- Define python functions\n",
    "- Calculate descriptive statistics\n",
    "- Visualize data via matplotlib\n",
    "\n",
    "\n",
    "# Task: Compare New York Pizza Restaurants with Above Average and Below Average Ratings\n",
    "![Pizza gif](https://media.giphy.com/media/eK1eFdpj5kMWqZ9bLJ/giphy.gif?cid=ecf05e47rkbp48nwz3za6dloo8xfwzueu0rx2vklguo7xyhu&rid=giphy.gif&ct=g)\n",
    "\n",
    "## Business Understanding \n",
    "\n",
    "A client at your analytics firm is considering opening a pizza restaurant in New York City. \n",
    "\n",
    "They have asked you to develop a business intelligence report to fact check the following claims:\n",
    "1. Your client wants to ensure they have an above average Yelp rating. They have previously owned restuarants in other cities, where a `3` was the average. They would like to know if that holds true in New York City. \n",
    "1. Your client has noticed that restaurants on yelp with a high review count seem to be quite successful. They have decided to focus on maximizing their review count which they believe will allow them to have an above average overall review. \n",
    "1. After looking at a few restaurants on Yelp, your client believes that most above average restaurants have a price point of `$$`. They are considering increasing their prices from `$` to `$$` to match the majority of above average restaurants, and would like you to find the most common price point for above average restaurants in New York City.\n",
    "1. In terms of location they have been told that above average restaurants are usually further east and below average are usually further west, but that the biggest difference is whether the restaurant is on the north or south side. They would like you to determine if the data supports this claim.\n",
    "1. They believe that the `10012` zipcode in New York City is the best place to open a restaurant. They wish to open a restaurant in close proximity to other highly rated restaurants, and they believe `10012` has the most in NYC.\n",
    "\n",
    "\n",
    "\n",
    "The primary purpose of this analysis is _descriptive_, meaning your analysis should report calculated statistics such as `counts` and `mean`, and should be focused on providing a simple, factual, understanding of the data. \n",
    "\n",
    "\n",
    "## Data Understanding\n",
    "\n",
    "You have been provided a Yelp dataset containing information about restaurants in New York City. The data is named `pizza_businesses.json` and is stored in the current working directory. You will need to load in this dataset, inspect how the data is structured, and use the provided information to fact check your client's claims. "
   ]
  },
  {
   "cell_type": "markdown",
   "id": "fundamental-explanation",
   "metadata": {},
   "source": [
    "## Load the data\n",
    "\n",
    "A dataset containing information about New York pizza restaurants is stored in this notebook's repository with the name `pizza_businesses.json`.\n",
    "\n",
    "In the cell below, load the json data into a python dictionary."
   ]
  },
  {
   "cell_type": "code",
   "execution_count": 1,
   "id": "finnish-hardwood",
   "metadata": {},
   "outputs": [
    {
     "name": "stdout",
     "output_type": "stream",
     "text": [
      "<class 'list'>\n"
     ]
    }
   ],
   "source": [
    "# Import the json python package\n",
    "import json\n",
    "\n",
    "# Load in the data\n",
    "with open('pizza_businesses.json') as p:\n",
    "    pizza_data = json.load(p)\n",
    "    print(type(pizza_data))"
   ]
  },
  {
   "cell_type": "markdown",
   "id": "enormous-operation",
   "metadata": {},
   "source": [
    "## Describe the data\n",
    "\n",
    "Now that you've loaded in the dataset, the structure of the data should be inspected.\n",
    "\n",
    "In the cell below, evaluate \n",
    "- The datatype of the overall dataset\n",
    "- The datatype of a single observation\n",
    "- The number of observations, and then\n",
    "- Isolate the first observation in the dataset"
   ]
  },
  {
   "cell_type": "code",
   "execution_count": 2,
   "id": "false-afghanistan",
   "metadata": {},
   "outputs": [],
   "source": [
    "# Replace None with your code!\n",
    "\n",
    "# Find the datatype for the overall dataset\n",
    "dataset_type = type(pizza_data)\n",
    "# Isolate the first observation\n",
    "first_observation = pizza_data[0]\n",
    "# Find the datatype for the first observation\n",
    "observation_type = type(pizza_data[0])\n",
    "# How many observations are there\n",
    "num_observations = len(pizza_data)"
   ]
  },
  {
   "cell_type": "code",
   "execution_count": 3,
   "id": "7d3ad5bb",
   "metadata": {},
   "outputs": [
    {
     "name": "stdout",
     "output_type": "stream",
     "text": [
      "1000\n"
     ]
    }
   ],
   "source": [
    "print(num_observations)"
   ]
  },
  {
   "cell_type": "markdown",
   "id": "canadian-wheel",
   "metadata": {},
   "source": [
    "Run this following cell unchanged to print out descriptive information for the dataset!"
   ]
  },
  {
   "cell_type": "code",
   "execution_count": 4,
   "id": "surprised-keyboard",
   "metadata": {},
   "outputs": [
    {
     "name": "stdout",
     "output_type": "stream",
     "text": [
      "The dataset is a \u001b[1m<class 'list'>\u001b[0m\n",
      "The observations are a \u001b[1m<class 'dict'>\u001b[0m\n",
      "There are \u001b[1m1000 observations.\u001b[0m\n",
      "\u001b[1m\n",
      "The first observation:\u001b[0m\n",
      "==========================================\n",
      "{'latitude': 40.72308755605564,\n",
      " 'location': {'address1': '27 Prince St',\n",
      "              'address2': None,\n",
      "              'address3': '',\n",
      "              'city': 'New York',\n",
      "              'country': 'US',\n",
      "              'display_address': ['27 Prince St', 'New York, NY 10012'],\n",
      "              'state': 'NY',\n",
      "              'zip_code': '10012'},\n",
      " 'longitude': -73.99453001177575,\n",
      " 'name': 'Prince Street Pizza',\n",
      " 'phone': '+12129664100',\n",
      " 'price': '\\\\$',\n",
      " 'rating': 4.5,\n",
      " 'review_count': 3976,\n",
      " 'transactions': ['delivery', 'pickup']}\n",
      "==========================================\n"
     ]
    }
   ],
   "source": [
    "from pprint import pprint\n",
    "\n",
    "print(f'The dataset is a \\033[1m{dataset_type}\\033[0m')\n",
    "print(f'The observations are a \\033[1m{observation_type}\\033[0m',)\n",
    "print(f'There are \\033[1m{num_observations} observations.\\033[0m')\n",
    "print('\\033[1m\\nThe first observation:\\033[0m')\n",
    "print('==========================================')\n",
    "pprint(first_observation)\n",
    "print('==========================================')"
   ]
  },
  {
   "cell_type": "markdown",
   "id": "atlantic-application",
   "metadata": {},
   "source": [
    "## Find the possible rating options. \n",
    "\n",
    "In the cell below, create a variable called `rating_options` that has a [set datatype](https://realpython.com/python-sets/), and is a unique collection of the possible ratings a restaurant can recieve."
   ]
  },
  {
   "cell_type": "code",
   "execution_count": 5,
   "id": "broke-array",
   "metadata": {},
   "outputs": [
    {
     "data": {
      "text/plain": [
       "{1.0, 2.0, 2.5, 3.0, 3.5, 4.0, 4.5, 5.0}"
      ]
     },
     "execution_count": 5,
     "metadata": {},
     "output_type": "execute_result"
    }
   ],
   "source": [
    "# Create the `rating_options` variable\n",
    "rating_options = set()\n",
    "\n",
    "# Loop over all of the observations in the dataset\n",
    "for pizza_shop in pizza_data:\n",
    "    # Isolate the rating for the restaurant\n",
    "    rating = pizza_shop['rating']\n",
    "    # Add the rating to \n",
    "    # the `rating_options` variable\n",
    "    rating_options.add(rating)\n",
    "\n",
    "    # could also skip the isolation part and write \n",
    "    # rating_options.add(pizza_shop['rating'])\n",
    "    \n",
    "    \n",
    "rating_options"
   ]
  },
  {
   "cell_type": "markdown",
   "id": "aquatic-fourth",
   "metadata": {},
   "source": [
    "Run the next cell unchanged to test your work!\n",
    "> If the below cell runs without throwing an error, your code is likely correct!"
   ]
  },
  {
   "cell_type": "code",
   "execution_count": 6,
   "id": "czech-spring",
   "metadata": {},
   "outputs": [],
   "source": [
    "assert type(rating_options) == set\n",
    "assert len(rating_options) == 8\n",
    "assert list(rating_options)[0] != list(rating_options)[1]"
   ]
  },
  {
   "cell_type": "markdown",
   "id": "charitable-oracle",
   "metadata": {},
   "source": [
    "## Plot the distribution for ratings\n",
    "\n",
    "Now that you know what rating options are available, in the cell below plot a histogram showing the distribution of ratings. "
   ]
  },
  {
   "cell_type": "code",
   "execution_count": 7,
   "id": "electric-grocery",
   "metadata": {
    "scrolled": true
   },
   "outputs": [
    {
     "data": {
      "image/png": "[encoded data removed]",
      "text/plain": [
       "<Figure size 432x288 with 1 Axes>"
      ]
     },
     "metadata": {
      "needs_background": "light"
     },
     "output_type": "display_data"
    }
   ],
   "source": [
    "# Import matplotlib's pyplot module\n",
    "import matplotlib.pyplot as plt\n",
    "\n",
    "# Create an empty list.\n",
    "# We will store all ratings in this list\n",
    "ratings = []\n",
    "\n",
    "# Loop over every restaurant in the dataset\n",
    "for pizza_shop in pizza_data:\n",
    "    # Isolate the rating\n",
    "    # Append the rating to the `ratings` list\n",
    "    ratings.append(pizza_shop['rating'])\n",
    "\n",
    "\n",
    "# Create a matplotlib subplot\n",
    "\n",
    "fig, ax = plt.subplots()\n",
    "\n",
    "\n",
    "# Plot a histogram of the ratings list\n",
    "\n",
    "ax.hist(ratings, edgecolor=\"black\")\n",
    "\n",
    "ax.set_title(\"Distribution of Pizza Restaurant Ratings in NYC\")\n",
    "ax.set_xlabel(\"Restaurant Rating (1-5)\")\n",
    "ax.set_ylabel(\"Frequency of Ratings\");\n",
    "\n"
   ]
  },
  {
   "cell_type": "code",
   "execution_count": 8,
   "id": "1efd6e91",
   "metadata": {},
   "outputs": [
    {
     "name": "stdout",
     "output_type": "stream",
     "text": [
      "Median Rating: 4.0\n",
      "Average Rating: 4.016\n"
     ]
    }
   ],
   "source": [
    "# Check the median\n",
    "import numpy as np\n",
    "ratings_median = np.median(ratings)\n",
    "print('Median Rating:',ratings_median)\n",
    "\n",
    "# Check the mean\n",
    "ratings_average = np.average(ratings)\n",
    "print('Average Rating:',ratings_average)\n"
   ]
  },
  {
   "cell_type": "markdown",
   "id": "digital-marshall",
   "metadata": {},
   "source": [
    "**Interpret the ratings histogram. How does the visualization relate to your client's claims?**"
   ]
  },
  {
   "cell_type": "markdown",
   "id": "adjusted-sterling",
   "metadata": {},
   "source": [
    "The client wants to ensure they have an above average Yelp rating.\n",
    "The histogram graph above shows that restaurants in New York City have an above average rating, the frequancy of rating lies between 3.5-4.5. We can check that by calculating the median which is 4.0, and the mean is roughly the same."
   ]
  },
  {
   "cell_type": "markdown",
   "id": "martial-receiver",
   "metadata": {},
   "source": [
    "## Isolate the restaurants with an above average rating\n",
    "\n",
    "Now that you have an understanding for what is an average rating, next you will isolate restaurants with above average and below average ratings so you can compare them.\n",
    "\n",
    "In the cell below, filter out all restaurants that do not have a rating of at least `4.5`."
   ]
  },
  {
   "cell_type": "code",
   "execution_count": 9,
   "id": "possible-arrest",
   "metadata": {},
   "outputs": [],
   "source": [
    "# Create an empty list\n",
    "# You will store restaurants in this list\n",
    "above_average = []\n",
    "\n",
    "# Loop over the dataset\n",
    "for pizza_shop in pizza_data:\n",
    "    # Isolate the rating\n",
    "    rating=pizza_shop['rating']\n",
    "    # Check if the rating is at least 4.5\n",
    "    if rating >= 4.5:\n",
    "        # If the rating is at least 4.5\n",
    "        # Add the restaurant to the list\n",
    "        above_average.append(pizza_shop)\n",
    "        \n"
   ]
  },
  {
   "cell_type": "markdown",
   "id": "compressed-timeline",
   "metadata": {},
   "source": [
    "Run the next cell unchanged to test your work!\n",
    "> If the below cell runs without throwing an error, your code is likely correct!"
   ]
  },
  {
   "cell_type": "code",
   "execution_count": 10,
   "id": "falling-argentina",
   "metadata": {},
   "outputs": [],
   "source": [
    "assert type(above_average) == list\n",
    "assert type(above_average[0]) == dict\n",
    "assert len(above_average) == 306"
   ]
  },
  {
   "cell_type": "markdown",
   "id": "elder-petersburg",
   "metadata": {},
   "source": [
    "## Isolate restaurants with a below average rating\n",
    "\n",
    "Now repeat the process for below average ratings.\n",
    "\n",
    "In the cell below, isolate restaurants that have a rating of no more than `3.5`."
   ]
  },
  {
   "cell_type": "code",
   "execution_count": 11,
   "id": "intense-deviation",
   "metadata": {},
   "outputs": [],
   "source": [
    "# Create an empty list\n",
    "# You will store restaurants in this list\n",
    "below_average = []\n",
    "\n",
    "# Loop over the restaurants in the dataset\n",
    "for pizza_shop in pizza_data:\n",
    "    # Isolate the rating\n",
    "    rating=pizza_shop['rating']\n",
    "    \n",
    "    # Check if the rating is no more than 3.5\n",
    "    if rating <= 3.5:\n",
    "        # If the rating no more than 3.5\n",
    "        # Add the restaurant to the list\n",
    "        below_average.append(pizza_shop)"
   ]
  },
  {
   "cell_type": "markdown",
   "id": "congressional-airline",
   "metadata": {},
   "source": [
    "Run the next cell unchanged to test your work!\n",
    "> If the below cell runs without throwing an error, your code is likely correct!"
   ]
  },
  {
   "cell_type": "code",
   "execution_count": 12,
   "id": "engaged-resident",
   "metadata": {},
   "outputs": [],
   "source": [
    "assert type(below_average) == list\n",
    "assert type(below_average[0]) == dict\n",
    "assert len(below_average) == 247"
   ]
  },
  {
   "cell_type": "markdown",
   "id": "competitive-roommate",
   "metadata": {},
   "source": [
    "## Calculate average review counts for both groups\n",
    "\n",
    "Now that you've isolated above average and below average restaurants, you can calculate the average number of reviews received by both groups.\n",
    "\n",
    "To do this, you will need to isolate the review counts for both groups, and calculate their average. \n",
    "\n",
    "The code for isolating the review counts will look very similar to code you have previously written, which is a good sign that a function should be defined!\n",
    "\n",
    "In the cell below, define a function called `isolate_values` that receives two arguments:\n",
    "1. A list of dictionaries\n",
    "2. A string indicating the key that should be isolated for each dictionary\n",
    "\n",
    "This function should:\n",
    "- Loop over every dictionary in the inputted list\n",
    "- Pull out the value assigned to the inputted key\n",
    "- Append the value to a new list\n",
    "- Return the new list of values"
   ]
  },
  {
   "cell_type": "code",
   "execution_count": 13,
   "id": "efficient-kingdom",
   "metadata": {},
   "outputs": [],
   "source": [
    "def isolate_values(dictionaries, key):\n",
    "    # Create an empty list\n",
    "    # for storing data\n",
    "    results = []\n",
    "    \n",
    "    # Loop over every dicionary \n",
    "    for item in dictionaries:\n",
    "        \n",
    "        # Isolate the value of the dictionary with the `key`\n",
    "        value = item[key]\n",
    "        \n",
    "        # Append the value to the list\n",
    "        results.append(value)\n",
    "    \n",
    "    # Return the list of values\n",
    "    return results"
   ]
  },
  {
   "cell_type": "markdown",
   "id": "extended-portal",
   "metadata": {},
   "source": [
    "Run the next cell unchanged to test your work!\n",
    "> If the below cell runs without throwing an error, your code is likely correct!"
   ]
  },
  {
   "cell_type": "code",
   "execution_count": 14,
   "id": "yellow-phoenix",
   "metadata": {},
   "outputs": [],
   "source": [
    "from types import FunctionType\n",
    "\n",
    "assert type(isolate_values) == FunctionType\n",
    "assert type(isolate_values([{'test': 1}], 'test')) == list\n",
    "assert len(isolate_values([{'test': 1}], 'test')) == 1\n",
    "assert len(isolate_values(above_average, 'name')) == len(above_average)\n",
    "assert isolate_values(above_average, 'name')[-1] == above_average[-1]['name']"
   ]
  },
  {
   "cell_type": "markdown",
   "id": "outer-assembly",
   "metadata": {},
   "source": [
    "Now use the `isolate_values` function to create a list called `abv_avg_rev_cnts` that contains the review counts for every above average restaurant."
   ]
  },
  {
   "cell_type": "code",
   "execution_count": 15,
   "id": "useful-halloween",
   "metadata": {},
   "outputs": [],
   "source": [
    "# Replace None with your code\n",
    "abv_avg_rev_cnts = isolate_values(above_average, 'review_count')"
   ]
  },
  {
   "cell_type": "markdown",
   "id": "severe-amateur",
   "metadata": {},
   "source": [
    "Now use the `isolate_values` function to create a list called `blw_avg_rev_cnts` that contains the review counts for every below average restaurant."
   ]
  },
  {
   "cell_type": "code",
   "execution_count": 16,
   "id": "herbal-interim",
   "metadata": {},
   "outputs": [],
   "source": [
    "# Replace None with your code\n",
    "blw_avg_rev_cnts = isolate_values(below_average, 'review_count')"
   ]
  },
  {
   "cell_type": "markdown",
   "id": "executive-hormone",
   "metadata": {},
   "source": [
    "Run the next cell unchanged to test your work!\n",
    "> If the below cell runs without throwing an error, your code is likely correct!"
   ]
  },
  {
   "cell_type": "code",
   "execution_count": 17,
   "id": "utility-pharmacy",
   "metadata": {},
   "outputs": [],
   "source": [
    "assert type(abv_avg_rev_cnts) == list\n",
    "assert type(abv_avg_rev_cnts[0]) == int\n",
    "assert type(blw_avg_rev_cnts) == list\n",
    "assert type(blw_avg_rev_cnts[0]) == int\n",
    "assert len(abv_avg_rev_cnts) == len(above_average)\n",
    "assert len(blw_avg_rev_cnts) == len(below_average)\n",
    "assert abv_avg_rev_cnts[101] == above_average[101]['review_count']\n",
    "assert blw_avg_rev_cnts[101] == below_average[101]['review_count']"
   ]
  },
  {
   "cell_type": "markdown",
   "id": "verbal-pressing",
   "metadata": {},
   "source": [
    "Now that you've isolated the review counts for both groups, you can calculate the average review count!\n",
    "\n",
    "But before you do that, you should inspect the distribution of review counts to make sure `mean` is an appropriate measure of centrality.\n",
    "\n",
    "In the cell below, we plot a histogram for above average and below average restaurant review counts."
   ]
  },
  {
   "cell_type": "code",
   "execution_count": 18,
   "id": "wooden-viking",
   "metadata": {},
   "outputs": [
    {
     "data": {
      "image/png": "[encoded data removed]",
      "text/plain": [
       "<Figure size 1152x504 with 2 Axes>"
      ]
     },
     "metadata": {
      "needs_background": "light"
     },
     "output_type": "display_data"
    }
   ],
   "source": [
    "# Initialize a matplotlib subplot\n",
    "import matplotlib.pyplot as plt\n",
    "# with 1 row and 2 columns\n",
    "fig, ax = plt.subplots(1,2, figsize=(16,7))\n",
    "bins = 60\n",
    "\n",
    "# Plot a histogram of below average review counts\n",
    "# on the first axis\n",
    "ax[0].hist(blw_avg_rev_cnts, bins=bins, edgecolor=\"black\")\n",
    "\n",
    "# Set the title for the first axis\n",
    "# to \"Below Average - Review Counts\"\n",
    "ax[0].set_title(\"Below Average - Review Counts\")\n",
    "ax[0].set_xlabel(\"Total of review count\")\n",
    "ax[0].set_ylabel(\"Number of restaurants\");\n",
    "ax[0].set_xlim(0, 4000)\n",
    "ax[0].set_ylim(0, 165);\n",
    "\n",
    "# Plot a histogram of above average review counts\n",
    "# on the first axis\n",
    "ax[1].hist(abv_avg_rev_cnts, bins=bins, edgecolor=\"black\")\n",
    "\n",
    "# Set the title for the first axis\n",
    "# to \"Above Average - Review Counts\"\n",
    "ax[1].set_title(\"Above Average - Review Counts\");\n",
    "ax[1].set_xlabel(\"Total review count\")\n",
    "ax[1].set_ylabel(\"Number of restaurants\");\n",
    "ax[1].set_xlim(0, 4000)\n",
    "ax[1].set_ylim(0, 165);"
   ]
  },
  {
   "cell_type": "markdown",
   "id": "regulation-radius",
   "metadata": {},
   "source": [
    "**Interpret the above visualizations. What statistic is best suited for these data?**"
   ]
  },
  {
   "cell_type": "markdown",
   "id": "atmospheric-trauma",
   "metadata": {},
   "source": [
    "Both graph distributions are skewed and are not symmetrical. Generally it's best to use the mean when the histogram is symmetrical. In this instance the median would do a better job of describing the center of this distribution than the mean. "
   ]
  },
  {
   "cell_type": "markdown",
   "id": "continuous-mills",
   "metadata": {},
   "source": [
    "In the cell below, calculate the average review count for above average and below average restaurants."
   ]
  },
  {
   "cell_type": "code",
   "execution_count": 19,
   "id": "terminal-morrison",
   "metadata": {},
   "outputs": [
    {
     "name": "stdout",
     "output_type": "stream",
     "text": [
      "Average for \"Above average review count\": 189.3856209150327\n",
      "Average for \"Below average review count\": 285.99595141700405\n",
      "Median for \"Above average review count\": 65.5\n",
      "Median for \"Below average review count\": 168.0\n"
     ]
    }
   ],
   "source": [
    "# Import numpy\n",
    "import numpy as np\n",
    "\n",
    "# Replace None with your code\n",
    "abv_avg_rev_cnt_center = np.average(abv_avg_rev_cnts) \n",
    "blw_avg_rev_cnt_center = np.average(blw_avg_rev_cnts) \n",
    "\n",
    "# Checking the median here\n",
    "abv_avg_rev_cnt_median= np.median(abv_avg_rev_cnts) \n",
    "blw_avg_rev_cnt_median = np.median(blw_avg_rev_cnts) \n",
    "\n",
    "print('Average for \"Above average review count\":', abv_avg_rev_cnt_center)\n",
    "print('Average for \"Below average review count\":', blw_avg_rev_cnt_center)\n",
    "\n",
    "print('Median for \"Above average review count\":', abv_avg_rev_cnt_median)\n",
    "print('Median for \"Below average review count\":', blw_avg_rev_cnt_median)"
   ]
  },
  {
   "cell_type": "markdown",
   "id": "sitting-associate",
   "metadata": {},
   "source": [
    "**Interpret the average review count for both groups. How does this relate to your client's claims?**"
   ]
  },
  {
   "cell_type": "markdown",
   "id": "stunning-setup",
   "metadata": {},
   "source": [
    "The client believes that restaurants with above average rating would likely to have a high review count.\n",
    "However, the data shows that the number of review count is unrelated to the rating. In this instance when we calculate the median we can see that below average restaurants have a higher review count, similarily with the mean.\n",
    "\n"
   ]
  },
  {
   "cell_type": "markdown",
   "id": "fallen-dress",
   "metadata": {},
   "source": [
    "## Count the price option frequency\n",
    "\n",
    "The `price` variable in the dataset is a string of dollar signs indicating how expensive a restaurant's price point is. \n",
    "\n",
    "In the cell below, write a for loop that counts how frequently a given price point appears for the `above_average` dataset"
   ]
  },
  {
   "cell_type": "code",
   "execution_count": 20,
   "id": "verbal-peripheral",
   "metadata": {},
   "outputs": [
    {
     "name": "stdout",
     "output_type": "stream",
     "text": [
      "{'\\\\$': 74, '\\\\$\\\\$': 87, 'Unknown': 134, '\\\\$\\\\$\\\\$': 10, '\\\\$\\\\$\\\\$\\\\$': 1}\n"
     ]
    }
   ],
   "source": [
    "# Create an empty dictionary to store the\n",
    "# counts for each price point\n",
    "abv_avg_prices = {}\n",
    "\n",
    "# Loop over the above average restaurants\n",
    "for pizza_shop in above_average:\n",
    "\n",
    "    # Isolate the price point for the restuarant\n",
    "    price_rating = pizza_shop['price']\n",
    "    \n",
    "    # Check if the price has been added to the dictionary\n",
    "    if  price_rating in abv_avg_prices:\n",
    "        # If the price is already a key in the dictionary\n",
    "        # Add one to the count for that price point\n",
    "        abv_avg_prices[price_rating] = abv_avg_prices[price_rating] + 1\n",
    "    else:\n",
    "        # If the price has not been added to the dictionary\n",
    "        # Else set the price as the key and the value as the integer `1`\n",
    "        abv_avg_prices[price_rating] = 1\n",
    "    \n",
    "print(abv_avg_prices)"
   ]
  },
  {
   "cell_type": "markdown",
   "id": "italic-theology",
   "metadata": {},
   "source": [
    "Run the next cell unchanged to test your work!\n",
    "> If the below cell runs without throwing an error, your code is likely correct!"
   ]
  },
  {
   "cell_type": "code",
   "execution_count": 21,
   "id": "romantic-password",
   "metadata": {},
   "outputs": [],
   "source": [
    "assert type(abv_avg_prices) == dict\n",
    "assert len(abv_avg_prices) == 5\n",
    "assert '\\\\$\\\\$\\\\$\\\\$' in abv_avg_prices"
   ]
  },
  {
   "cell_type": "markdown",
   "id": "governing-resistance",
   "metadata": {},
   "source": [
    "**Now reapply the same process, but instead calculate the price point frequencies for the `below_average` dataset.**"
   ]
  },
  {
   "cell_type": "code",
   "execution_count": 22,
   "id": "banner-reward",
   "metadata": {},
   "outputs": [
    {
     "name": "stdout",
     "output_type": "stream",
     "text": [
      "{'\\\\$\\\\$': 88, '\\\\$': 128, 'Unknown': 19, '\\\\$\\\\$\\\\$': 12}\n"
     ]
    }
   ],
   "source": [
    "# Create an empty dictionary to store the\n",
    "# counts for each price point\n",
    "blw_avg_prices = {}\n",
    "\n",
    "# Loop over the above average restaurants\n",
    "for pizza_shop in below_average:\n",
    "\n",
    "    # Isolate the price point for the restuarant\n",
    "    price_rating = pizza_shop['price']\n",
    "    \n",
    "    # Check if the price has been added to the dictionary\n",
    "    if  price_rating in blw_avg_prices:\n",
    "        # If the price is already a key in the dictionary\n",
    "        # Add one to the count for that price point\n",
    "        blw_avg_prices[price_rating] = blw_avg_prices[price_rating] + 1\n",
    "    else:\n",
    "        # If the price has not been added to the dictionary\n",
    "        # Else set the price as the key and the value as the integer `1`\n",
    "        blw_avg_prices[price_rating] = 1\n",
    "    \n",
    "print(blw_avg_prices)"
   ]
  },
  {
   "cell_type": "markdown",
   "id": "minimal-accused",
   "metadata": {},
   "source": [
    "Run the next cell unchanged to test your work!\n",
    "> If the below cell runs without throwing an error, your code is likely correct!"
   ]
  },
  {
   "cell_type": "code",
   "execution_count": 23,
   "id": "filled-absolute",
   "metadata": {},
   "outputs": [],
   "source": [
    "assert type(blw_avg_prices) == dict\n",
    "assert len(blw_avg_prices) == 4\n",
    "assert '\\\\$' in blw_avg_prices"
   ]
  },
  {
   "cell_type": "markdown",
   "id": "departmental-attitude",
   "metadata": {},
   "source": [
    "## Create a bar plot that sets the frequency of each price point as the y axis"
   ]
  },
  {
   "cell_type": "code",
   "execution_count": 24,
   "id": "97fdb2a6",
   "metadata": {},
   "outputs": [
    {
     "data": {
      "image/png": "[encoded data removed]",
      "text/plain": [
       "<Figure size 1080x432 with 2 Axes>"
      ]
     },
     "metadata": {
      "needs_background": "light"
     },
     "output_type": "display_data"
    }
   ],
   "source": [
    "# Create a matplotlib subplot with 1 row and 2 columns\n",
    "import matplotlib.pyplot as plt\n",
    "fig, ax = plt.subplots(1,2, figsize=(15,6))\n",
    "\n",
    "\n",
    "# Isolate keys of the below average price count dictionary\n",
    "key_names = list(blw_avg_prices.keys())\n",
    "\n",
    "# Isolate the values of the below average price count dictionary\n",
    "# This will be the y-axis\n",
    "values = list(blw_avg_prices.values())\n",
    "\n",
    "# Plot the below average price point counts as a bar plot\n",
    "# on the first axis\n",
    "ax[0].bar(key_names, values, edgecolor=\"black\");\n",
    "\n",
    "# Set labels for X and Y axes\n",
    "\n",
    "ax[0].set_xlabel(\"Price Rating\");\n",
    "ax[0].set_ylabel(\"Below avg price count\");\n",
    "\n",
    "# Set the title for the first axis\n",
    "# to the string \"Below Average\"\n",
    "ax[0].set_title(\"Below Average\");\n",
    "\n",
    "# Isolate keys of the above average price count dictionary\n",
    "key_names = list(abv_avg_prices.keys())\n",
    "\n",
    "\n",
    "# Isolate the values of the above average price count dictionary\n",
    "values = list(abv_avg_prices.values())\n",
    "\n",
    "\n",
    "# Plot the above average price counts as a bar plot\n",
    "# on the second axis\n",
    "ax[1].bar(key_names, values, edgecolor=\"black\")\n",
    "\n",
    "ax[1].set_xlabel(\"Price Rating\")\n",
    "ax[1].set_ylabel(\"Above avg price count\")\n",
    "\n",
    "# Set the title for the second axis to \n",
    "# the string 'Above Average'\n",
    "ax[1].set_title(\"Above Average\");\n"
   ]
  },
  {
   "cell_type": "markdown",
   "id": "descending-attribute",
   "metadata": {},
   "source": [
    "**Interpret the above visualization. How does it relate to your client's claims?**"
   ]
  },
  {
   "cell_type": "markdown",
   "id": "moderate-thong",
   "metadata": {},
   "source": [
    "The client believes that most restaurants with an above average rating have a high price point of `$$`'.\n",
    "The most common price point is unknown, many restaurants that have an above average rating in the yelp data don't have a price point. There are 87 restaurants with a price point of `$$` and 74 restaurants with a price point of `$`. \n",
    "This doesn't justify a price increase based on rating.\n"
   ]
  },
  {
   "cell_type": "markdown",
   "id": "occupied-westminster",
   "metadata": {},
   "source": [
    "## Analyze restaurant location\n",
    "\n",
    "In the cell below, use the `isolate_values` function to isolate `longitude` and `latitude` for above and below average restaurants."
   ]
  },
  {
   "cell_type": "code",
   "execution_count": 25,
   "id": "maritime-comparative",
   "metadata": {},
   "outputs": [
    {
     "data": {
      "image/png": "[encoded data removed]",
      "text/plain": [
       "<Figure size 1080x432 with 1 Axes>"
      ]
     },
     "metadata": {
      "needs_background": "light"
     },
     "output_type": "display_data"
    }
   ],
   "source": [
    "# Replace None with your code\n",
    "\n",
    "# Isolate longitude for above average restaurants\n",
    "abv_avg_lon = isolate_values(above_average, 'longitude')\n",
    "\n",
    "# Isolate latitude for above average restaurants\n",
    "abv_avg_lat = isolate_values(above_average, 'latitude')\n",
    "\n",
    "# Isolate longitude for below average restaurants\n",
    "blw_avg_lon = isolate_values(below_average, 'longitude')\n",
    "\n",
    "# Isolate latitude for below average restaurants\n",
    "blw_avg_lat = isolate_values(below_average, 'latitude')\n",
    "\n",
    "plt.figure(figsize=(15,6))\n",
    "plt.scatter(abv_avg_lon, abv_avg_lat, label='Above')\n",
    "plt.scatter(blw_avg_lon, blw_avg_lat, label='Below')\n",
    "plt.legend();"
   ]
  },
  {
   "cell_type": "markdown",
   "id": "intensive-palestine",
   "metadata": {},
   "source": [
    "## Remove the outlier\n",
    "\n",
    "There is one restaurant in the above average dataset with a location dramatically west and south of all other observations. Let's remove that restaurant from the above average dataset and regenerate the scatter plot."
   ]
  },
  {
   "cell_type": "code",
   "execution_count": 26,
   "id": "rocky-wrong",
   "metadata": {},
   "outputs": [],
   "source": [
    "# Create an empty list\n",
    "# that will contain data with\n",
    "# the outlier removed\n",
    "no_outliers = []\n",
    "\n",
    "# Create an empty list to append the outlier\n",
    "outlier = []\n",
    "\n",
    "# Loop over every restaurant in the above average dataset\n",
    "for restaurant in above_average:\n",
    "    \n",
    "    # Isolate the restaurant's longitude\n",
    "    restaurant_longitude = restaurant['longitude'] \n",
    "    \n",
    "    # Check if the longitude value is greater than the integer -90\n",
    "    if restaurant_longitude >= -90:\n",
    "        \n",
    "        # Append the restaurant to the no_outliers list\n",
    "            no_outliers.append(restaurant)\n",
    "        \n",
    "    # If longitude is less than -90 it is an outlier\n",
    "    # and should be appended to the outlier list\n",
    "    else: outlier.append(restaurant)"
   ]
  },
  {
   "cell_type": "markdown",
   "id": "material-psychology",
   "metadata": {},
   "source": [
    "Run the next cell unchanged to test your work!\n",
    "> If the below cell runs without throwing an error, your code is likely correct!"
   ]
  },
  {
   "cell_type": "code",
   "execution_count": 27,
   "id": "crude-medicine",
   "metadata": {},
   "outputs": [],
   "source": [
    "assert type(no_outliers) == list\n",
    "assert type(outlier) == list\n",
    "assert len(no_outliers) == len(above_average) - 1\n",
    "assert len(outlier) == 1"
   ]
  },
  {
   "cell_type": "markdown",
   "id": "colored-retreat",
   "metadata": {},
   "source": [
    "Now regenerate the longitude and latitude for above average restaurants using the `no_outliers` dataset, and regenerate the scatter plot!"
   ]
  },
  {
   "cell_type": "code",
   "execution_count": 28,
   "id": "black-tunnel",
   "metadata": {
    "scrolled": true
   },
   "outputs": [
    {
     "data": {
      "image/png": "[encoded data removed]",
      "text/plain": [
       "<Figure size 1152x432 with 1 Axes>"
      ]
     },
     "metadata": {
      "needs_background": "light"
     },
     "output_type": "display_data"
    }
   ],
   "source": [
    "abv_avg_lon = isolate_values(no_outliers,'longitude')\n",
    "abv_avg_lat = isolate_values(no_outliers,'latitude')\n",
    "\n",
    "plt.figure(figsize=(16,6))\n",
    "plt.scatter(abv_avg_lon, abv_avg_lat, label='Above')\n",
    "plt.scatter(blw_avg_lon, blw_avg_lat, label='Below')\n",
    "plt.legend();"
   ]
  },
  {
   "cell_type": "markdown",
   "id": "assured-darkness",
   "metadata": {},
   "source": [
    "Nice. This is much more interesting. "
   ]
  },
  {
   "cell_type": "markdown",
   "id": "everyday-president",
   "metadata": {},
   "source": [
    "## Plot the distribution of latitude and longitude\n",
    "\n",
    "To get a better sense about how latitude and longitude are working, in the cell below plot histograms for latitude and longitude."
   ]
  },
  {
   "cell_type": "code",
   "execution_count": 29,
   "id": "empirical-contract",
   "metadata": {},
   "outputs": [
    {
     "data": {
      "image/png": "[encoded data removed]",
      "text/plain": [
       "<Figure size 1080x432 with 2 Axes>"
      ]
     },
     "metadata": {
      "needs_background": "light"
     },
     "output_type": "display_data"
    }
   ],
   "source": [
    "# Create a matplotlib subplot with 1 row and 2 columns\n",
    "import matplotlib.pyplot as plt\n",
    "fig, ax = plt.subplots(1,2, figsize=(15,6))\n",
    "\n",
    "# Plot a histogram of above average longitude\n",
    "# on the first subplot axis. Set alpha to .6\n",
    "# Set label to the string \"Above\"\n",
    "ax[0].hist(abv_avg_lon, alpha=0.6, label='Above');\n",
    "\n",
    "# Plot a histogram of below average longitude\n",
    "# on the first subplot axis. Set alpha to .6\n",
    "# Set label to the string \"Below\"\n",
    "ax[0].hist(blw_avg_lon, alpha=0.6, label='Below');\n",
    "ax[0].legend();\n",
    "\n",
    "# Set the title for the first subplot axis\n",
    "# to the string \"Longitude\"\n",
    "ax[0].set_title(\"Longitude\")\n",
    "\n",
    "# Plot a histogram of above average latitude\n",
    "# on the second subplot axis. Set alpha to .6\n",
    "# Set label to the string \"Above\"\n",
    "ax[1].hist(abv_avg_lat, alpha=0.6, label='Above');\n",
    "\n",
    "# Plot a histogram of below average latitude\n",
    "# on the second subplot axis. Set alpha to .6\n",
    "# Set label to the string \"Below\"\n",
    "ax[1].hist(blw_avg_lat, alpha=0.6, label='Below');\n",
    "ax[1].legend();\n",
    "\n",
    "# Set the title for the second subplot axis\n",
    "# to the string \"Latitude\"\n",
    "ax[1].set_title(\"Latitude\");\n"
   ]
  },
  {
   "cell_type": "markdown",
   "id": "durable-royalty",
   "metadata": {},
   "source": [
    "**Interpret the above visualization. How does it relate to your client's claims?**"
   ]
  },
  {
   "cell_type": "markdown",
   "id": "optimum-american",
   "metadata": {},
   "source": [
    "The client claims that above average restaurants are usually further east and below average are usually further west, The data doesn't support this claim.\n",
    "There is a central cluster with an even distribution of both above and below average restaurants. There seems to be a corelation between above average restaurants situated directly west and north east of that central cluster.\n",
    "\n"
   ]
  },
  {
   "cell_type": "markdown",
   "id": "extra-lithuania",
   "metadata": {},
   "source": [
    "## Find the most common zipcode for above average restaurants\n",
    "\n",
    "In the cell below, loop over the restaurants in the above average dataset and count the frequency of the restaurants zipcode."
   ]
  },
  {
   "cell_type": "code",
   "execution_count": 31,
   "id": "afraid-appendix",
   "metadata": {},
   "outputs": [
    {
     "name": "stdout",
     "output_type": "stream",
     "text": [
      "{'10012': 10, '11201': 8, '11211': 11, '11209': 4, '10028': 1, '11222': 8, '10014': 13, '10075': 2, '11205': 5, '10013': 9, '11217': 4, '10023': 3, '10009': 9, '10003': 10, '10016': 5, '11102': 1, '10022': 6, '11249': 1, '10010': 1, '10011': 6, '11215': 9, '10006': 2, '11237': 6, '11238': 3, '11218': 2, '10017': 5, '11101': 5, '11226': 4, '10019': 6, '10002': 9, '11231': 5, '10128': 1, '10065': 3, '11104': 3, '10001': 5, '10029': 2, '11221': 3, '76542': 1, '11373': 1, '10018': 6, '10027': 3, '11233': 2, '10032': 1, '07302': 2, '10038': 1, '11103': 3, '11385': 3, '11105': 4, '10004': 2, '10021': 1, '10036': 3, '10030': 1, '11418': 1, '10007': 3, '11207': 2, '10035': 1, '10461': 2, '11220': 1, '07094': 2, '11421': 3, '07020': 1, '07047': 5, '07305': 1, '11050': 1, '11212': 2, '11378': 3, '10454': 1, '11216': 3, '07087': 2, '11219': 2, '07901': 1, '07307': 2, '10270': 1, '11375': 1, '10302': 1, '07732': 1, '11213': 2, '10034': 1, '11379': 2, '10301': 1, '11214': 1, '10458': 3, '11432': 1, '07010': 2, '11694': 1, '07042': 1, '10464': 1, '10112': 1, '11206': 2, '11203': 1, '07002': 1, '11692': 1, '10025': 3, '11224': 1, '11372': 4, '11234': 1, '11561': 1, '10005': 1, '10705': 1, '10305': 1, '10304': 1, '11225': 1, '07304': 1, '11542': 1}\n"
     ]
    }
   ],
   "source": [
    "# Create an empty dictionary\n",
    "# This dictionary will hold the counts\n",
    "# for each zipcode\n",
    "abv_avg_zip_cnts = {}\n",
    "\n",
    "# Loop over the above average dataset\n",
    "for pizza_shop in above_average:\n",
    "    \n",
    "    # Isolate the restaurant's zipcode \n",
    "    zip_count = pizza_shop['location']['zip_code']\n",
    "    \n",
    "    # Check if the zipcode is a key in the dictionary\n",
    "    if zip_count in abv_avg_zip_cnts:\n",
    "        \n",
    "        # Add one to the zipcode's value\n",
    "        abv_avg_zip_cnts[zip_count] = abv_avg_zip_cnts[zip_count] + 1\n",
    "    \n",
    "    # If the zipcode is not a key\n",
    "    # add it to the dictionary with a value of 1\n",
    "    else:\n",
    "        abv_avg_zip_cnts[zip_count] = 1\n",
    "    \n",
    "    \n",
    "print(abv_avg_zip_cnts)"
   ]
  },
  {
   "cell_type": "markdown",
   "id": "comfortable-clear",
   "metadata": {},
   "source": [
    "Run the next cell unchanged to test your work!\n",
    "> If the below cell runs without throwing an error, your code is likely correct!"
   ]
  },
  {
   "cell_type": "code",
   "execution_count": 32,
   "id": "subtle-outside",
   "metadata": {},
   "outputs": [],
   "source": [
    "assert type(abv_avg_zip_cnts) == dict\n",
    "assert len(abv_avg_zip_cnts) == 104 or len(abv_avg_zip_cnts) == 103\n",
    "assert '10012' in abv_avg_zip_cnts"
   ]
  },
  {
   "cell_type": "markdown",
   "id": "comparative-ribbon",
   "metadata": {},
   "source": [
    "Now loop over the `abv_avg_zip_cnts` dictionary and find the zipcode with the largest count. \n",
    "\n",
    "For this question, there are multiple ways to find the solution. Comments have not been provided."
   ]
  },
  {
   "cell_type": "code",
   "execution_count": 33,
   "id": "early-vertex",
   "metadata": {},
   "outputs": [
    {
     "name": "stdout",
     "output_type": "stream",
     "text": [
      "Zip code: 10014\n",
      "Largest count: 13\n"
     ]
    }
   ],
   "source": [
    "zip_code = max(abv_avg_zip_cnts, key=abv_avg_zip_cnts.get)\n",
    "all_values = abv_avg_zip_cnts.values()\n",
    "largest_count = max(all_values)\n",
    "\n",
    "\n",
    "print('Zip code:',zip_code)\n",
    "print('Largest count:', largest_count) "
   ]
  },
  {
   "cell_type": "code",
   "execution_count": 34,
   "id": "0d103094",
   "metadata": {},
   "outputs": [
    {
     "name": "stdout",
     "output_type": "stream",
     "text": [
      "13\n"
     ]
    }
   ],
   "source": [
    "maxi = 0\n",
    "\n",
    "for key, value in abv_avg_zip_cnts.items():\n",
    "    if value > maxi:\n",
    "        maxi = value\n",
    "        \n",
    "print(maxi)"
   ]
  },
  {
   "cell_type": "markdown",
   "id": "careful-vegetarian",
   "metadata": {},
   "source": [
    "**Interpret the results. How does the most frequent zipcode relate to your client's claims?**"
   ]
  },
  {
   "cell_type": "markdown",
   "id": "auburn-division",
   "metadata": {},
   "source": [
    "The client believe that the 10012 zipcode in New York City is the best place to open a restaurant. They believe the zipcode 10012 has the most highly rated restaurants in NYC.\n",
    "\n",
    "The data shows that the highest number of above average restaurants are in the zip code 10014."
   ]
  },
  {
   "cell_type": "markdown",
   "id": "brave-venture",
   "metadata": {},
   "source": [
    "## Compile your findings into a report\n",
    "\n",
    "You have address all of your client's claims! In the cell below, describe the findings of your analysis."
   ]
  },
  {
   "cell_type": "markdown",
   "id": "effective-disclaimer",
   "metadata": {},
   "source": [
    "Findings:\n",
    "\n",
    "-- Our analysis revealed that NYC restaurants (n=1000) have an average rating of 4.\n",
    "\n",
    "-- We found that the number of review count is unrelated to a higher rating. Restaurants that have a below average rating have a higher average review count.\n",
    "\n",
    "-- The relationship between rating and price is unrelated. \n",
    "\n",
    "--The most common price point amongst above average restaurants is in fact unknown, many restaurants that have an above average rating in the yelp data do not have a price point. There are 87 restaurants with a price point of $$ and 74 restaurants with a price point of $, this doesn't justify a price increase based on rating.\n",
    "\n",
    "-- There is no indication that changing your price point will increase or decrease your average rating.\n",
    "\n",
    "\n",
    "-- There is a central cluster with an even distribution of both above and below average restaurants. There seems to be a corelation between above average restaurants situated directly west and north east of that central cluster. \n",
    "\n",
    "\n",
    "-- The data shows that the highest number of above average restaurants are in the zip code 10014.\n",
    "\n"
   ]
  },
  {
   "cell_type": "markdown",
   "id": "neural-aurora",
   "metadata": {},
   "source": [
    "# Summary\n",
    "\n",
    "Well done! As you can see, manipulating nested data stuctures can be a challenging task. Pulling information from json objects requires a thoughtful inspection of how the data is organized, and code that allows you to avoid repetition."
   ]
  }
 ],
 "metadata": {
  "kernelspec": {
   "display_name": "Python 3 (ipykernel)",
   "language": "python",
   "name": "python3"
  },
  "language_info": {
   "codemirror_mode": {
    "name": "ipython",
    "version": 3
   },
   "file_extension": ".py",
   "mimetype": "text/x-python",
   "name": "python",
   "nbconvert_exporter": "python",
   "pygments_lexer": "ipython3",
   "version": "3.9.7"
  }
 },
 "nbformat": 4,
 "nbformat_minor": 5
}
